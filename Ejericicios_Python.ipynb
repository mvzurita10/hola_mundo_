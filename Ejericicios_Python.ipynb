{
  "nbformat": 4,
  "nbformat_minor": 0,
  "metadata": {
    "colab": {
      "provenance": [],
      "authorship_tag": "ABX9TyOO/rghs/zVY4z7Q+H+cUbY",
      "include_colab_link": true
    },
    "kernelspec": {
      "name": "python3",
      "display_name": "Python 3"
    },
    "language_info": {
      "name": "python"
    }
  },
  "cells": [
    {
      "cell_type": "markdown",
      "metadata": {
        "id": "view-in-github",
        "colab_type": "text"
      },
      "source": [
        "<a href=\"https://colab.research.google.com/github/mvzurita10/hola_mundo_/blob/main/Ejericicios_Python.ipynb\" target=\"_parent\"><img src=\"https://colab.research.google.com/assets/colab-badge.svg\" alt=\"Open In Colab\"/></a>"
      ]
    },
    {
      "cell_type": "markdown",
      "source": [
        "#Ejercicios en Python\n",
        "\n",
        "##Ejercicio 1:\n",
        "Simula un juego de dados entre dos jugadores. Mostrara quien gana y si es que existe un empate entre los jugadores.\n",
        "\n"
      ],
      "metadata": {
        "id": "XcwnDuWhCmRb"
      }
    },
    {
      "cell_type": "code",
      "source": [
        "import random\n",
        "\n",
        "print(\"**** Bienvenido al juego de Dados **** \")\n",
        "print(\"--------------------------------------\")\n",
        "\n",
        "def lanzar_dado(nombre):\n",
        "\n",
        "    input(f\"{nombre}, presiona Enter para lanzar el dado.\")\n",
        "    lanzamiento = random.randint(1, 6)\n",
        "    print(f\"{nombre}, sacaste {lanzamiento}\")\n",
        "    return lanzamiento\n",
        "\n",
        "nombre1 = input(\"Ingresa tu nombre: \")\n",
        "nombre2 = input(\"Ingresa tu nombre: \")\n",
        "\n",
        "\n",
        "lanzamientoJugador1 = lanzar_dado(nombre1)\n",
        "lanzamientoJugador2 = lanzar_dado(nombre2)\n",
        "\n",
        "\n",
        "resultado = (\n",
        "    f\"El ganador es {nombre1}\" if lanzamientoJugador1 > lanzamientoJugador2 else\n",
        "    f\"El ganador es {nombre2}\" if lanzamientoJugador2 > lanzamientoJugador1 else\n",
        "    f\"{nombre1} y {nombre2} empataron\")\n",
        "\n",
        "print(resultado)"
      ],
      "metadata": {
        "colab": {
          "base_uri": "https://localhost:8080/"
        },
        "id": "OVbB9EHZP9cS",
        "outputId": "f03007ec-c75d-4450-8946-d7dad243272b"
      },
      "execution_count": 2,
      "outputs": [
        {
          "output_type": "stream",
          "name": "stdout",
          "text": [
            "**** Bienvenido al juego de Dados **** \n",
            "--------------------------------------\n",
            "Ingresa tu nombre: Miky \n",
            "Ingresa tu nombre: Josue \n",
            "Miky , presiona Enter para lanzar el dado.\n",
            "Miky , sacaste 4\n",
            "Josue , presiona Enter para lanzar el dado.\n",
            "Josue , sacaste 4\n",
            "Miky  y Josue  empataron\n"
          ]
        }
      ]
    },
    {
      "cell_type": "markdown",
      "source": [
        "##Ejercicio 2:\n",
        "Este codigo simula un juego de piedra, papel o tijera siendo una competencia entre tu (el usuario) y la computadora."
      ],
      "metadata": {
        "id": "mQPhdtt9H0kA"
      }
    },
    {
      "cell_type": "code",
      "source": [
        "import random\n",
        "\n",
        "print(\"Bienvenido al juego piedra, papel o tijera. \\nPara PIEDRA digite 1  \\nPara PAPEL digite 2  \\nPara TIJERA digite 3\")\n",
        "\n",
        "while True:\n",
        "    print (\"\")\n",
        "    jugador = int (input(\"Escoja una opcion: \"))\n",
        "    if jugador == 1:\n",
        "        print (\"\\nERES PIEDRA\")\n",
        "        break\n",
        "    elif jugador == 2:\n",
        "        print (\"\\nERES PAPEL\")\n",
        "        break\n",
        "    elif jugador == 3:\n",
        "        print(\"\\nERES TIJERA\")\n",
        "        break\n",
        "    else:\n",
        "        print(\"ELIJE UN NUMERO DEL 1 AL 3 \")\n",
        "\n",
        "computadora = random.randint (1,3)\n",
        "if computadora == 1:\n",
        "    print (\"\\nLA COMPUTADORA HA SACADO PIEDRA\")\n",
        "elif computadora == 2:\n",
        "    print (\"\\nLA COMPUTADORA HA SACADO PAPEL\")\n",
        "elif computadora == 3:\n",
        "    print (\"\\nLA CMPUTADORA HA SACADO TIJERA\")\n",
        "\n",
        "print (\"\")\n",
        "if jugador ==1 and computadora == 1:\n",
        "    print(\"NO GANA NADIE\")\n",
        "elif jugador ==2 and computadora ==2:\n",
        "    print(\"NO GANA NAIDE\")\n",
        "elif jugador ==3 and computadora ==3:\n",
        "    print(\"NO GANA NADIE\")\n",
        "\n",
        "elif jugador ==1 and computadora ==2:\n",
        "    print(\"CPU WINS!!\")\n",
        "elif jugador ==2 and computadora ==3:\n",
        "    print(\"CPU WINS!!\")\n",
        "elif jugador ==3 and computadora ==1:\n",
        "    print(\"CPU WINS!!\")\n",
        "\n",
        "elif jugador ==1 and computadora ==3:\n",
        "    print(\"Eso es!! Le ganaste a un invento poderoso\")\n",
        "elif jugador ==2 and computadora ==1:\n",
        "    print(\"Eso es!! Le ganaste a un invento poderoso\")\n",
        "elif jugador ==3 and computadora ==2:\n",
        "    print(\"Eso es!! Le ganaste a un invento poderoso\")"
      ],
      "metadata": {
        "colab": {
          "base_uri": "https://localhost:8080/"
        },
        "id": "4egyDCXRWBTP",
        "outputId": "571582b7-0e5c-4076-bbf1-b3227a27dc13"
      },
      "execution_count": 3,
      "outputs": [
        {
          "output_type": "stream",
          "name": "stdout",
          "text": [
            "Bienvenido al juego piedra, papel o tijera. \n",
            "Para PIEDRA digite 1  \n",
            "Para PAPEL digite 2  \n",
            "Para TIJERA digite 3\n",
            "\n",
            "Escoja una opcion: 3\n",
            "\n",
            "ERES TIJERA\n",
            "\n",
            "LA COMPUTADORA HA SACADO PIEDRA\n",
            "\n",
            "CPU WINS!!\n"
          ]
        }
      ]
    },
    {
      "cell_type": "markdown",
      "source": [
        "##Ejercicio 3:\n",
        "Este programa nos servira para comprobar si aprueba o no dependiendo de las notas y asistencia del estudiante"
      ],
      "metadata": {
        "id": "NXsp_cx_YBnq"
      }
    },
    {
      "cell_type": "code",
      "source": [
        "nota_examen = input(\"Ingrese su nota del examen (valores permitidos del 1 al 10): \")\n",
        "\n",
        "try:\n",
        "    nota_examen = int(nota_examen)\n",
        "    if 1 <= nota_examen <= 10:\n",
        "        print(\"Es una nota válida.\")\n",
        "        inasistencias = input(\"¿Cuántas veces ha faltado a clases? \")\n",
        "        try:\n",
        "            inasistencias = int(inasistencias)\n",
        "            if inasistencias < 3 and nota_examen >= 8:\n",
        "                print(\"APROBADO\")\n",
        "            else:\n",
        "                print(\"REPROBADO\")\n",
        "\n",
        "        except ValueError:\n",
        "            print(\"El número de inasistencias debe ser un valor numérico.\")\n",
        "    else:\n",
        "        print(\"Solo se permiten notas entre 1 y 10.\")\n",
        "except ValueError:\n",
        "    print(\"Por favor, ingrese un número válido.\")\n",
        "\n",
        "print(\"FIN DEL PROGRAMA\")"
      ],
      "metadata": {
        "colab": {
          "base_uri": "https://localhost:8080/"
        },
        "id": "eOU41DdpYPJG",
        "outputId": "0826721e-c531-47bb-9c35-b092f2c6f917"
      },
      "execution_count": 4,
      "outputs": [
        {
          "output_type": "stream",
          "name": "stdout",
          "text": [
            "Ingrese su nota del examen (valores permitidos del 1 al 10): 9\n",
            "Es una nota válida.\n",
            "¿Cuántas veces ha faltado a clases? 1\n",
            "APROBADO\n",
            "FIN DEL PROGRAMA\n"
          ]
        }
      ]
    }
  ]
}
