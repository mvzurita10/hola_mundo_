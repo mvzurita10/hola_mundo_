{
  "nbformat": 4,
  "nbformat_minor": 0,
  "metadata": {
    "colab": {
      "provenance": [],
      "authorship_tag": "ABX9TyOqYuZ9zdo43xZ7oBEVmexK",
      "include_colab_link": true
    },
    "kernelspec": {
      "name": "python3",
      "display_name": "Python 3"
    },
    "language_info": {
      "name": "python"
    }
  },
  "cells": [
    {
      "cell_type": "markdown",
      "metadata": {
        "id": "view-in-github",
        "colab_type": "text"
      },
      "source": [
        "<a href=\"https://colab.research.google.com/github/mvzurita10/hola_mundo_/blob/main/Ejericicios_Python.ipynb\" target=\"_parent\"><img src=\"https://colab.research.google.com/assets/colab-badge.svg\" alt=\"Open In Colab\"/></a>"
      ]
    },
    {
      "cell_type": "markdown",
      "source": [
        "#Ejericios en Python\n",
        "\n",
        "##Ejercicio 1:\n",
        "Simula un juego de dados entre dos jugadores. Mostrara quien gana y si es que los jugadores empatan.\n",
        "\n"
      ],
      "metadata": {
        "id": "XcwnDuWhCmRb"
      }
    },
    {
      "cell_type": "code",
      "source": [
        "import random\n",
        "\n",
        "print(\"**** Bienvenido al juego de Dados **** \")\n",
        "print(\"--------------------------------------\")\n",
        "\n",
        "def lanzar_dado(nombre):\n",
        "\n",
        "    input(f\"{nombre}, presiona Enter para lanzar el dado.\")\n",
        "    lanzamiento = random.randint(1, 6)\n",
        "    print(f\"{nombre}, sacaste {lanzamiento}\")\n",
        "    return lanzamiento\n",
        "\n",
        "nombre1 = input(\"Ingresa tu nombre: \")\n",
        "nombre2 = input(\"Ingresa tu nombre: \")\n",
        "\n",
        "\n",
        "lanzamientoJugador1 = lanzar_dado(nombre1)\n",
        "lanzamientoJugador2 = lanzar_dado(nombre2)\n",
        "\n",
        "\n",
        "resultado = (\n",
        "    f\"El ganador es {nombre1}\" if lanzamientoJugador1 > lanzamientoJugador2 else\n",
        "    f\"El ganador es {nombre2}\" if lanzamientoJugador2 > lanzamientoJugador1 else\n",
        "    f\"{nombre1} y {nombre2} empataron\")\n",
        "\n",
        "print(resultado)"
      ],
      "metadata": {
        "colab": {
          "base_uri": "https://localhost:8080/"
        },
        "id": "OVbB9EHZP9cS",
        "outputId": "ef078fa3-87c4-43f9-9dbd-10be48e42e41"
      },
      "execution_count": 1,
      "outputs": [
        {
          "output_type": "stream",
          "name": "stdout",
          "text": [
            "**** Bienvenido al juego de Dados **** \n",
            "--------------------------------------\n",
            "Ingresa tu nombre: Miky \n",
            "Ingresa tu nombre: Alan \n",
            "Miky , presiona Enter para lanzar el dado.\n",
            "Miky , sacaste 6\n",
            "Alan , presiona Enter para lanzar el dado.\n",
            "Alan , sacaste 3\n",
            "El ganador es Miky \n"
          ]
        }
      ]
    },
    {
      "cell_type": "markdown",
      "source": [
        "#Ejercicio 2:\n",
        "Este codigo nos permite ingresar dos valores y al sumarlos no dira si la suma es mayor o no es mayor que 10"
      ],
      "metadata": {
        "id": "mQPhdtt9H0kA"
      }
    },
    {
      "cell_type": "code",
      "source": [
        "a = int(input(\"Ingrese el valor 1: \"))\n",
        "b = int(input(\"Ingrese el valor 2: \"))\n",
        "resultado= a+b\n",
        "\n",
        "print(\"La suma es : \", resultado)\n",
        "\n",
        "if resultado > 10:\n",
        "    print(\"La suma es mayor a 10\")\n",
        "else:\n",
        "    print(\"La suma no es mayor que 10\")"
      ],
      "metadata": {
        "colab": {
          "base_uri": "https://localhost:8080/"
        },
        "id": "oofp3ZDVH98X",
        "outputId": "e0a4b5bf-8f3d-425b-8372-7533ca1ac8bd"
      },
      "execution_count": null,
      "outputs": [
        {
          "output_type": "stream",
          "name": "stdout",
          "text": [
            "Ingrese el valor 1: 1\n",
            "Ingrese el valor 2: 2\n",
            "La suma es :  3\n",
            "La suma no es mayor que 10\n"
          ]
        }
      ]
    }
  ]
}